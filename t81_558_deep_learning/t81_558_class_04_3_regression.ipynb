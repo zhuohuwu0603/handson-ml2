{
 "cells": [
  {
   "cell_type": "markdown",
   "metadata": {},
   "source": [
    "# T81-558: Applications of Deep Neural Networks\n",
    "**Module 4: Training for Tabular Data**\n",
    "* Instructor: [Jeff Heaton](https://sites.wustl.edu/jeffheaton/), McKelvey School of Engineering, [Washington University in St. Louis](https://engineering.wustl.edu/Programs/Pages/default.aspx)\n",
    "* For more information visit the [class website](https://sites.wustl.edu/jeffheaton/t81-558/)."
   ]
  },
  {
   "cell_type": "markdown",
   "metadata": {},
   "source": [
    "# Module 4 Material\n",
    "\n",
    "* Part 4.1: Encoding a Feature Vector for Keras Deep Learning [[Video]](https://www.youtube.com/watch?v=Vxz-gfs9nMQ&list=PLjy4p-07OYzulelvJ5KVaT2pDlxivl_BN) [[Notebook]](t81_558_class_04_1_feature_encode.ipynb)\n",
    "* Part 4.2: Keras Multiclass Classification for Deep Neural Networks with ROC and AUC [[Video]](https://www.youtube.com/watch?v=-f3bg9dLMks&list=PLjy4p-07OYzulelvJ5KVaT2pDlxivl_BN) [[Notebook]](t81_558_class_04_2_multi_class.ipynb)\n",
    "* **Part 4.3: Keras Regression for Deep Neural Networks with RMSE** [[Video]](https://www.youtube.com/watch?v=wNhBUC6X5-E&list=PLjy4p-07OYzulelvJ5KVaT2pDlxivl_BN) [[Notebook]](t81_558_class_04_3_regression.ipynb)\n",
    "* Part 4.4: Backpropagation, Nesterov Momentum, and ADAM Neural Network Training [[Video]](https://www.youtube.com/watch?v=VbDg8aBgpck&list=PLjy4p-07OYzulelvJ5KVaT2pDlxivl_BN) [[Notebook]](t81_558_class_04_4_backprop.ipynb)\n",
    "* Part 4.5: Neural Network RMSE and Log Loss Error Calculation from Scratch [[Video]](https://www.youtube.com/watch?v=wmQX1t2PHJc&list=PLjy4p-07OYzulelvJ5KVaT2pDlxivl_BN) [[Notebook]](t81_558_class_04_5_rmse_logloss.ipynb)"
   ]
  },
  {
   "cell_type": "markdown",
   "metadata": {},
   "source": [
    "# Part 4.3: Keras Regression for Deep Neural Networks with RMSE\n",
    "\n",
    "Regression results are evaluated differently than classification.  Consider the following code that trains a neural network for regression on the data set **jh-simple-dataset.csv**.  "
   ]
  },
  {
   "cell_type": "code",
   "execution_count": 1,
   "metadata": {},
   "outputs": [],
   "source": [
    "import pandas as pd\n",
    "from scipy.stats import zscore\n",
    "from sklearn.model_selection import train_test_split\n",
    "import matplotlib.pyplot as plt\n",
    "\n",
    "# Read the data set\n",
    "df = pd.read_csv(\n",
    "    \"https://data.heatonresearch.com/data/t81-558/jh-simple-dataset.csv\",\n",
    "    na_values=['NA','?'])\n",
    "\n",
    "# Generate dummies for job\n",
    "df = pd.concat([df,pd.get_dummies(df['job'],prefix=\"job\")],axis=1)\n",
    "df.drop('job', axis=1, inplace=True)\n",
    "\n",
    "# Generate dummies for area\n",
    "df = pd.concat([df,pd.get_dummies(df['area'],prefix=\"area\")],axis=1)\n",
    "df.drop('area', axis=1, inplace=True)\n",
    "\n",
    "# Generate dummies for product\n",
    "df = pd.concat([df,pd.get_dummies(df['product'],prefix=\"product\")],axis=1)\n",
    "df.drop('product', axis=1, inplace=True)\n",
    "\n",
    "# Missing values for income\n",
    "med = df['income'].median()\n",
    "df['income'] = df['income'].fillna(med)\n",
    "\n",
    "# Standardize ranges\n",
    "df['income'] = zscore(df['income'])\n",
    "df['aspect'] = zscore(df['aspect'])\n",
    "df['save_rate'] = zscore(df['save_rate'])\n",
    "df['subscriptions'] = zscore(df['subscriptions'])\n",
    "\n",
    "# Convert to numpy - Classification\n",
    "x_columns = df.columns.drop('age').drop('id')\n",
    "x = df[x_columns].values\n",
    "y = df['age'].values\n",
    "\n",
    "# Create train/test\n",
    "x_train, x_test, y_train, y_test = train_test_split(    \n",
    "    x, y, test_size=0.25, random_state=42)"
   ]
  },
  {
   "cell_type": "code",
   "execution_count": 2,
   "metadata": {},
   "outputs": [
    {
     "name": "stdout",
     "output_type": "stream",
     "text": [
      "Train on 1500 samples, validate on 500 samples\n",
      "Epoch 1/1000\n",
      "1500/1500 - 0s - loss: 2050.2592 - val_loss: 1688.9015\n",
      "Epoch 2/1000\n",
      "1500/1500 - 0s - loss: 1259.2252 - val_loss: 766.7950\n",
      "Epoch 3/1000\n",
      "1500/1500 - 0s - loss: 462.8568 - val_loss: 263.3388\n",
      "Epoch 4/1000\n",
      "1500/1500 - 0s - loss: 238.8222 - val_loss: 214.8102\n",
      "Epoch 5/1000\n",
      "1500/1500 - 0s - loss: 199.1456 - val_loss: 177.3204\n",
      "Epoch 6/1000\n",
      "1500/1500 - 0s - loss: 160.8790 - val_loss: 141.0083\n",
      "Epoch 7/1000\n",
      "1500/1500 - 0s - loss: 126.2230 - val_loss: 111.9455\n",
      "Epoch 8/1000\n",
      "1500/1500 - 0s - loss: 98.5313 - val_loss: 89.0690\n",
      "Epoch 9/1000\n",
      "1500/1500 - 0s - loss: 78.0905 - val_loss: 72.9670\n",
      "Epoch 10/1000\n",
      "1500/1500 - 0s - loss: 63.8341 - val_loss: 61.6533\n",
      "Epoch 11/1000\n",
      "1500/1500 - 0s - loss: 53.1875 - val_loss: 53.3525\n",
      "Epoch 12/1000\n",
      "1500/1500 - 0s - loss: 45.4890 - val_loss: 46.9061\n",
      "Epoch 13/1000\n",
      "1500/1500 - 0s - loss: 39.6459 - val_loss: 41.2554\n",
      "Epoch 14/1000\n",
      "1500/1500 - 0s - loss: 34.5316 - val_loss: 36.6225\n",
      "Epoch 15/1000\n",
      "1500/1500 - 0s - loss: 30.5361 - val_loss: 32.6542\n",
      "Epoch 16/1000\n",
      "1500/1500 - 0s - loss: 26.8931 - val_loss: 29.4575\n",
      "Epoch 17/1000\n",
      "1500/1500 - 0s - loss: 24.1103 - val_loss: 26.2343\n",
      "Epoch 18/1000\n",
      "1500/1500 - 0s - loss: 21.5168 - val_loss: 23.6881\n",
      "Epoch 19/1000\n",
      "1500/1500 - 0s - loss: 19.5780 - val_loss: 21.6607\n",
      "Epoch 20/1000\n",
      "1500/1500 - 0s - loss: 17.8715 - val_loss: 19.7502\n",
      "Epoch 21/1000\n",
      "1500/1500 - 0s - loss: 16.3498 - val_loss: 18.2493\n",
      "Epoch 22/1000\n",
      "1500/1500 - 0s - loss: 15.1986 - val_loss: 16.8494\n",
      "Epoch 23/1000\n",
      "1500/1500 - 0s - loss: 14.1297 - val_loss: 16.0222\n",
      "Epoch 24/1000\n",
      "1500/1500 - 0s - loss: 13.3175 - val_loss: 14.7425\n",
      "Epoch 25/1000\n",
      "1500/1500 - 0s - loss: 12.5616 - val_loss: 14.1886\n",
      "Epoch 26/1000\n",
      "1500/1500 - 0s - loss: 11.9911 - val_loss: 13.2288\n",
      "Epoch 27/1000\n",
      "1500/1500 - 0s - loss: 11.3565 - val_loss: 12.7648\n",
      "Epoch 28/1000\n",
      "1500/1500 - 0s - loss: 11.0307 - val_loss: 12.0009\n",
      "Epoch 29/1000\n",
      "1500/1500 - 0s - loss: 10.6133 - val_loss: 11.4967\n",
      "Epoch 30/1000\n",
      "1500/1500 - 0s - loss: 10.1955 - val_loss: 11.0097\n",
      "Epoch 31/1000\n",
      "1500/1500 - 0s - loss: 9.6920 - val_loss: 10.8203\n",
      "Epoch 32/1000\n",
      "1500/1500 - 0s - loss: 9.4271 - val_loss: 10.0933\n",
      "Epoch 33/1000\n",
      "1500/1500 - 0s - loss: 9.1585 - val_loss: 10.6077\n",
      "Epoch 34/1000\n",
      "1500/1500 - 0s - loss: 8.7490 - val_loss: 9.3496\n",
      "Epoch 35/1000\n",
      "1500/1500 - 0s - loss: 8.4172 - val_loss: 8.8913\n",
      "Epoch 36/1000\n",
      "1500/1500 - 0s - loss: 8.0880 - val_loss: 8.5390\n",
      "Epoch 37/1000\n",
      "1500/1500 - 0s - loss: 7.8997 - val_loss: 8.2320\n",
      "Epoch 38/1000\n",
      "1500/1500 - 0s - loss: 7.4462 - val_loss: 7.8511\n",
      "Epoch 39/1000\n",
      "1500/1500 - 0s - loss: 7.2211 - val_loss: 8.1105\n",
      "Epoch 40/1000\n",
      "1500/1500 - 0s - loss: 6.8694 - val_loss: 7.3071\n",
      "Epoch 41/1000\n",
      "1500/1500 - 0s - loss: 6.5722 - val_loss: 7.1561\n",
      "Epoch 42/1000\n",
      "1500/1500 - 0s - loss: 6.3514 - val_loss: 6.8532\n",
      "Epoch 43/1000\n",
      "1500/1500 - 0s - loss: 6.1179 - val_loss: 6.4865\n",
      "Epoch 44/1000\n",
      "1500/1500 - 0s - loss: 5.8204 - val_loss: 6.2660\n",
      "Epoch 45/1000\n",
      "1500/1500 - 0s - loss: 5.6559 - val_loss: 6.0099\n",
      "Epoch 46/1000\n",
      "1500/1500 - 0s - loss: 5.4042 - val_loss: 5.8534\n",
      "Epoch 47/1000\n",
      "1500/1500 - 0s - loss: 5.1679 - val_loss: 5.9630\n",
      "Epoch 48/1000\n",
      "1500/1500 - 0s - loss: 4.9686 - val_loss: 5.2570\n",
      "Epoch 49/1000\n",
      "1500/1500 - 0s - loss: 4.6872 - val_loss: 4.9776\n",
      "Epoch 50/1000\n",
      "1500/1500 - 0s - loss: 4.3808 - val_loss: 4.7889\n",
      "Epoch 51/1000\n",
      "1500/1500 - 0s - loss: 4.1959 - val_loss: 4.5818\n",
      "Epoch 52/1000\n",
      "1500/1500 - 0s - loss: 3.9644 - val_loss: 4.3277\n",
      "Epoch 53/1000\n",
      "1500/1500 - 0s - loss: 3.7148 - val_loss: 4.1350\n",
      "Epoch 54/1000\n",
      "1500/1500 - 0s - loss: 3.5353 - val_loss: 4.2233\n",
      "Epoch 55/1000\n",
      "1500/1500 - 0s - loss: 3.4220 - val_loss: 3.7993\n",
      "Epoch 56/1000\n",
      "1500/1500 - 0s - loss: 3.2501 - val_loss: 3.5910\n",
      "Epoch 57/1000\n",
      "1500/1500 - 0s - loss: 3.0846 - val_loss: 3.4863\n",
      "Epoch 58/1000\n",
      "1500/1500 - 0s - loss: 2.8832 - val_loss: 3.2905\n",
      "Epoch 59/1000\n",
      "1500/1500 - 0s - loss: 2.7629 - val_loss: 3.4687\n",
      "Epoch 60/1000\n",
      "1500/1500 - 0s - loss: 2.6956 - val_loss: 3.0951\n",
      "Epoch 61/1000\n",
      "1500/1500 - 0s - loss: 2.5179 - val_loss: 3.2593\n",
      "Epoch 62/1000\n",
      "1500/1500 - 0s - loss: 2.4358 - val_loss: 2.7662\n",
      "Epoch 63/1000\n",
      "1500/1500 - 0s - loss: 2.3071 - val_loss: 2.6290\n",
      "Epoch 64/1000\n",
      "1500/1500 - 0s - loss: 2.1788 - val_loss: 2.5419\n",
      "Epoch 65/1000\n",
      "1500/1500 - 0s - loss: 2.0924 - val_loss: 2.4129\n",
      "Epoch 66/1000\n",
      "1500/1500 - 0s - loss: 1.9647 - val_loss: 2.3891\n",
      "Epoch 67/1000\n",
      "1500/1500 - 0s - loss: 1.8656 - val_loss: 2.1799\n",
      "Epoch 68/1000\n",
      "1500/1500 - 0s - loss: 1.7737 - val_loss: 2.1117\n",
      "Epoch 69/1000\n",
      "1500/1500 - 0s - loss: 1.6713 - val_loss: 1.9839\n",
      "Epoch 70/1000\n",
      "1500/1500 - 0s - loss: 1.6029 - val_loss: 1.9519\n",
      "Epoch 71/1000\n",
      "1500/1500 - 0s - loss: 1.5406 - val_loss: 1.9135\n",
      "Epoch 72/1000\n",
      "1500/1500 - 0s - loss: 1.4558 - val_loss: 1.7606\n",
      "Epoch 73/1000\n",
      "1500/1500 - 0s - loss: 1.3821 - val_loss: 1.6311\n",
      "Epoch 74/1000\n",
      "1500/1500 - 0s - loss: 1.3134 - val_loss: 1.5733\n",
      "Epoch 75/1000\n",
      "1500/1500 - 0s - loss: 1.2986 - val_loss: 1.6177\n",
      "Epoch 76/1000\n",
      "1500/1500 - 0s - loss: 1.1986 - val_loss: 1.4329\n",
      "Epoch 77/1000\n",
      "1500/1500 - 0s - loss: 1.1612 - val_loss: 1.4040\n",
      "Epoch 78/1000\n",
      "1500/1500 - 0s - loss: 1.0643 - val_loss: 1.5199\n",
      "Epoch 79/1000\n",
      "1500/1500 - 0s - loss: 1.0872 - val_loss: 1.3153\n",
      "Epoch 80/1000\n",
      "1500/1500 - 0s - loss: 1.0027 - val_loss: 1.5200\n",
      "Epoch 81/1000\n",
      "1500/1500 - 0s - loss: 1.0093 - val_loss: 1.1644\n",
      "Epoch 82/1000\n",
      "1500/1500 - 0s - loss: 0.9259 - val_loss: 1.1706\n",
      "Epoch 83/1000\n",
      "1500/1500 - 0s - loss: 0.9206 - val_loss: 1.0793\n",
      "Epoch 84/1000\n",
      "1500/1500 - 0s - loss: 0.8240 - val_loss: 1.0378\n",
      "Epoch 85/1000\n",
      "1500/1500 - 0s - loss: 0.7869 - val_loss: 0.9985\n",
      "Epoch 86/1000\n",
      "1500/1500 - 0s - loss: 0.7815 - val_loss: 0.9728\n",
      "Epoch 87/1000\n",
      "1500/1500 - 0s - loss: 0.7721 - val_loss: 0.9672\n",
      "Epoch 88/1000\n",
      "1500/1500 - 0s - loss: 0.7720 - val_loss: 0.9470\n",
      "Epoch 89/1000\n",
      "1500/1500 - 0s - loss: 0.6813 - val_loss: 0.9458\n",
      "Epoch 90/1000\n",
      "1500/1500 - 0s - loss: 0.6726 - val_loss: 0.8536\n",
      "Epoch 91/1000\n",
      "1500/1500 - 0s - loss: 0.6359 - val_loss: 0.8321\n",
      "Epoch 92/1000\n",
      "1500/1500 - 0s - loss: 0.6420 - val_loss: 0.9361\n",
      "Epoch 93/1000\n",
      "1500/1500 - 0s - loss: 0.6398 - val_loss: 0.7965\n",
      "Epoch 94/1000\n",
      "1500/1500 - 0s - loss: 0.6042 - val_loss: 0.7671\n",
      "Epoch 95/1000\n",
      "1500/1500 - 0s - loss: 0.5727 - val_loss: 0.7501\n",
      "Epoch 96/1000\n",
      "1500/1500 - 0s - loss: 0.5955 - val_loss: 0.7549\n",
      "Epoch 97/1000\n",
      "1500/1500 - 0s - loss: 0.5514 - val_loss: 0.7067\n",
      "Epoch 98/1000\n",
      "1500/1500 - 0s - loss: 0.5409 - val_loss: 0.6884\n",
      "Epoch 99/1000\n",
      "1500/1500 - 0s - loss: 0.5777 - val_loss: 0.8978\n",
      "Epoch 100/1000\n",
      "1500/1500 - 0s - loss: 0.5352 - val_loss: 0.6997\n",
      "Epoch 101/1000\n",
      "1500/1500 - 0s - loss: 0.5110 - val_loss: 0.7224\n",
      "Epoch 102/1000\n",
      "1500/1500 - 0s - loss: 0.5055 - val_loss: 0.7285\n",
      "Epoch 103/1000\n",
      "Restoring model weights from the end of the best epoch.\n",
      "1500/1500 - 0s - loss: 0.5336 - val_loss: 0.7553\n",
      "Epoch 00103: early stopping\n"
     ]
    },
    {
     "data": {
      "text/plain": [
       "<tensorflow.python.keras.callbacks.History at 0x1a31eb3a58>"
      ]
     },
     "execution_count": 2,
     "metadata": {},
     "output_type": "execute_result"
    }
   ],
   "source": [
    "from tensorflow.keras.models import Sequential\n",
    "from tensorflow.keras.layers import Dense, Activation\n",
    "from tensorflow.keras.callbacks import EarlyStopping\n",
    "\n",
    "# Build the neural network\n",
    "model = Sequential()\n",
    "model.add(Dense(25, input_dim=x.shape[1], activation='relu')) # Hidden 1\n",
    "model.add(Dense(10, activation='relu')) # Hidden 2\n",
    "model.add(Dense(1)) # Output\n",
    "model.compile(loss='mean_squared_error', optimizer='adam')\n",
    "monitor = EarlyStopping(monitor='val_loss', min_delta=1e-3, \n",
    "                        patience=5, verbose=1, mode='auto', restore_best_weights=True)\n",
    "model.fit(x_train,y_train,validation_data=(x_test,y_test),callbacks=[monitor],verbose=2,epochs=1000)\n"
   ]
  },
  {
   "cell_type": "markdown",
   "metadata": {},
   "source": [
    "### Mean Square Error\n",
    "\n",
    "The mean square error is the sum of the squared differences between the prediction ($\\hat{y}$) and the expected ($y$).  MSE values are not of a particular unit.  If an MSE value has decreased for a model, that is good.  However, beyond this, there is not much more you can determine.  Low MSE values are desired.\n",
    "\n",
    "$ \\mbox{MSE} = \\frac{1}{n} \\sum_{i=1}^n \\left(\\hat{y}_i - y_i\\right)^2 $\n"
   ]
  },
  {
   "cell_type": "code",
   "execution_count": 3,
   "metadata": {},
   "outputs": [
    {
     "name": "stdout",
     "output_type": "stream",
     "text": [
      "Final score (MSE): 0.6883844942541036\n"
     ]
    }
   ],
   "source": [
    "from sklearn import metrics\n",
    "\n",
    "# Predict\n",
    "pred = model.predict(x_test)\n",
    "\n",
    "# Measure MSE error.  \n",
    "score = metrics.mean_squared_error(pred,y_test)\n",
    "print(\"Final score (MSE): {}\".format(score))"
   ]
  },
  {
   "cell_type": "markdown",
   "metadata": {},
   "source": [
    "### Root Mean Square Error\n",
    "\n",
    "The root mean square (RMSE) is essentially the square root of the MSE.  Because of this, the RMSE error is in the same units as the training data outcome. Low RMSE values are desired.\n",
    "\n",
    "$ \\mbox{RMSE} = \\sqrt{\\frac{1}{n} \\sum_{i=1}^n \\left(\\hat{y}_i - y_i\\right)^2} $"
   ]
  },
  {
   "cell_type": "code",
   "execution_count": 4,
   "metadata": {},
   "outputs": [
    {
     "name": "stdout",
     "output_type": "stream",
     "text": [
      "Final score (RMSE): 0.8296893962526601\n"
     ]
    }
   ],
   "source": [
    "import numpy as np\n",
    "\n",
    "# Measure RMSE error.  RMSE is common for regression.\n",
    "score = np.sqrt(metrics.mean_squared_error(pred,y_test))\n",
    "print(\"Final score (RMSE): {}\".format(score))"
   ]
  },
  {
   "cell_type": "markdown",
   "metadata": {},
   "source": [
    "### Lift Chart\n",
    "\n",
    "\n",
    "To generate a lift chart, perform the following activities:\n",
    "\n",
    "* Sort the data by expected output. Plot the blue line above.\n",
    "* For every point on the x-axis plot the predicted value for that same data point. This is the green line above.\n",
    "* The x-axis is just 0 to 100% of the dataset. The expected always starts low and ends high.\n",
    "* The y-axis is ranged according to the values predicted.\n",
    "\n",
    "Reading a lift chart:\n",
    "\n",
    "* The expected and predict lines should be close. Notice where one is above the ot other.\n",
    "* The below chart is the most accurate on lower age."
   ]
  },
  {
   "cell_type": "code",
   "execution_count": 5,
   "metadata": {},
   "outputs": [],
   "source": [
    "# Regression chart.\n",
    "def chart_regression(pred, y, sort=True):\n",
    "    t = pd.DataFrame({'pred': pred, 'y': y.flatten()})\n",
    "    if sort:\n",
    "        t.sort_values(by=['y'], inplace=True)\n",
    "    plt.plot(t['y'].tolist(), label='expected')\n",
    "    plt.plot(t['pred'].tolist(), label='prediction')\n",
    "    plt.ylabel('output')\n",
    "    plt.legend()\n",
    "    plt.show()"
   ]
  },
  {
   "cell_type": "code",
   "execution_count": 6,
   "metadata": {},
   "outputs": [
    {
     "data": {
      "image/png": "[encoded data removed]",
      "text/plain": [
       "<Figure size 432x288 with 1 Axes>"
      ]
     },
     "metadata": {
      "needs_background": "light"
     },
     "output_type": "display_data"
    }
   ],
   "source": [
    "\n",
    "# Plot the chart\n",
    "chart_regression(pred.flatten(),y_test)"
   ]
  },
  {
   "cell_type": "code",
   "execution_count": null,
   "metadata": {},
   "outputs": [],
   "source": []
  }
 ],
 "metadata": {
  "anaconda-cloud": {},
  "kernelspec": {
   "display_name": "Python 3.6 (tensorflow)",
   "language": "python",
   "name": "rga"
  },
  "language_info": {
   "codemirror_mode": {
    "name": "ipython",
    "version": 3
   },
   "file_extension": ".py",
   "mimetype": "text/x-python",
   "name": "python",
   "nbconvert_exporter": "python",
   "pygments_lexer": "ipython3",
   "version": "3.6.9"
  }
 },
 "nbformat": 4,
 "nbformat_minor": 4
}
