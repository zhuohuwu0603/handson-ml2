{
 "cells": [
  {
   "cell_type": "markdown",
   "metadata": {},
   "source": [
    "# Titanic: Machine Learning from Disaster\n",
    "https://www.kaggle.com/c/titanic\n",
    "\n",
    "Code based on https://www.kaggle.com/klepacz/titanic/tensor-flow"
   ]
  },
  {
   "cell_type": "markdown",
   "metadata": {},
   "source": [
    "## 1. Problem/data description\n",
    "Can we predict survivors based on passenger information?"
   ]
  },
  {
   "cell_type": "markdown",
   "metadata": {},
   "source": [
    "## 2. Loading data\n",
    "\n",
    "First execute data_download.sh to download CSV files:\n",
    "```bash\n",
    "$ sh data_download.sh\n",
    "``` \n",
    "\n",
    "You will have `train.csv' and CSV looks something like this:\n",
    "```\n",
    "PassengerId,Survived,Pclass,Name,Sex,Age,SibSp,Parch,Ticket,Fare,Cabin,Embarked\n",
    "1,0,3,\"Braund, Mr. Owen Harris\",male,22,1,0,A/5 21171,7.25,,S\n",
    "...\n",
    "```"
   ]
  },
  {
   "cell_type": "code",
   "execution_count": 1,
   "metadata": {
    "collapsed": true
   },
   "outputs": [],
   "source": [
    "# code to downlaod and laod \n",
    "import numpy as np # linear algebra\n",
    "import pandas as pd # data processing, CSV file I/O (e.g. pd.read_csv)\n",
    "import tensorflow as tf\n",
    "tf.set_random_seed(777)  # for reproducibility"
   ]
  },
  {
   "cell_type": "code",
   "execution_count": 2,
   "metadata": {
    "collapsed": true
   },
   "outputs": [],
   "source": [
    "# Normalize x data\n",
    "def MinMaxScaler(data):\n",
    "    numerator = data - np.min(data, 0)\n",
    "    denominator = np.max(data, 0) - np.min(data, 0)\n",
    "    # noise term prevents the zero division\n",
    "    return numerator / (denominator + 1e-7)"
   ]
  },
  {
   "cell_type": "code",
   "execution_count": 3,
   "metadata": {
    "collapsed": false
   },
   "outputs": [],
   "source": [
    "def load_file(is_test):\n",
    "    if is_test:\n",
    "        data_df = pd.read_csv(\"test.csv\")\n",
    "    else:\n",
    "        data_df = pd.read_csv(\"train.csv\")\n",
    "\n",
    "    cols = [\"Pclass\", \"Sex\", \"Age\", \"Fare\",\n",
    "            \"Embarked_0\", \"Embarked_1\", \"Embarked_2\"]\n",
    "\n",
    "    data_df['Sex'] = data_df['Sex'].map({'female': 0, 'male': 1}).astype(int)\n",
    "\n",
    "    # handle missing values of age\n",
    "    data_df[\"Age\"] = data_df[\"Age\"].fillna(data_df[\"Age\"].mean())\n",
    "    data_df[\"Fare\"] = data_df[\"Fare\"].fillna(data_df[\"Fare\"].mean())\n",
    "\n",
    "    data_df['Embarked'] = data_df['Embarked'].fillna('S')\n",
    "    data_df['Embarked'] = data_df['Embarked'].map({'S': 0, 'C': 1, 'Q': 2}).astype(int)\n",
    "    data_df = pd.concat([data_df, pd.get_dummies(data_df['Embarked'], prefix='Embarked')], axis=1)\n",
    "\n",
    "    # print(data_df.head())\n",
    "    data = data_df[cols].values\n",
    "\n",
    "    if is_test:\n",
    "        sing_col = data_df[\"PassengerId\"].values # Need it for submission\n",
    "    else:\n",
    "        sing_col = data_df[\"Survived\"].values\n",
    "\n",
    "    return sing_col, data"
   ]
  },
  {
   "cell_type": "code",
   "execution_count": 4,
   "metadata": {
    "collapsed": false
   },
   "outputs": [
    {
     "name": "stdout",
     "output_type": "stream",
     "text": [
      "(891, 7) (418, 7)\n",
      "(1309, 7)\n",
      "(891, 7) (418, 7)\n"
     ]
    }
   ],
   "source": [
    "# Load data and min/max \n",
    "# TODO: clean up this code\n",
    "\n",
    "y_train, x_train = load_file(0)\n",
    "y_train = np.expand_dims(y_train, 1)\n",
    "train_len = len(x_train)\n",
    "# Get train file\n",
    "passId, x_test = load_file(1)\n",
    "\n",
    "print(x_train.shape, x_test.shape)\n",
    "\n",
    "x_all = np.vstack((x_train, x_test))\n",
    "print(x_all.shape)\n",
    "\n",
    "x_min_max_all = MinMaxScaler(x_all)\n",
    "x_train = x_min_max_all[:train_len]\n",
    "x_test = x_min_max_all[train_len:]\n",
    "\n",
    "print(x_train.shape, x_test.shape)"
   ]
  },
  {
   "cell_type": "markdown",
   "metadata": {},
   "source": [
    "## 3. Model\n",
    "Model implementation. It can be divided to several small sections."
   ]
  },
  {
   "cell_type": "code",
   "execution_count": 5,
   "metadata": {
    "collapsed": false
   },
   "outputs": [],
   "source": [
    "# Parameters\n",
    "learning_rate = 0.1\n",
    "\n",
    "# Network Parameters\n",
    "n_input = 7  # x_train.shape[1]\n",
    "\n",
    "n_hidden_1 = 32  # 1st layer number of features\n",
    "n_hidden_2 = 64  # 2nd layer number of features\n",
    "\n",
    "# placeholders for a tensor that will be always fed.\n",
    "X = tf.placeholder(tf.float32, shape=[None, n_input])\n",
    "Y = tf.placeholder(tf.float32, shape=[None, 1])\n",
    "\n",
    "W = tf.Variable(tf.random_normal([n_input, 1]), name='weight')\n",
    "b = tf.Variable(tf.random_normal([1]), name='bias')\n",
    "\n",
    "# Hypothesis using sigmoid: tf.div(1., 1. + tf.exp(tf.matmul(X, W)))\n",
    "hypothesis = tf.sigmoid(tf.matmul(X, W) + b)\n",
    "\n",
    "# cost/loss function\n",
    "cost = -tf.reduce_mean(Y*tf.log(hypothesis) + (1 - Y)*tf.log(1 - hypothesis))\n",
    "\n",
    "optimizer = tf.train.AdamOptimizer(learning_rate=learning_rate).minimize(cost)\n",
    "\n",
    "# Accuracy computation\n",
    "# True if hypothesis>0.5 else False\n",
    "predicted = tf.cast(hypothesis > 0.5, dtype=tf.float32)\n",
    "accuracy = tf.reduce_mean(tf.cast(tf.equal(predicted, Y), dtype=tf.float32))"
   ]
  },
  {
   "cell_type": "code",
   "execution_count": 6,
   "metadata": {
    "collapsed": false
   },
   "outputs": [
    {
     "name": "stdout",
     "output_type": "stream",
     "text": [
      "Epoch: 01 cost=0.4700 train accuracy=0.7843\n",
      "Epoch: 02 cost=0.4607 train accuracy=0.7885\n",
      "Epoch: 03 cost=0.4606 train accuracy=0.7885\n",
      "Epoch: 04 cost=0.4606 train accuracy=0.7885\n",
      "Epoch: 05 cost=0.4606 train accuracy=0.7886\n",
      "Epoch: 06 cost=0.4606 train accuracy=0.7886\n",
      "Epoch: 07 cost=0.4606 train accuracy=0.7886\n",
      "Epoch: 08 cost=0.4606 train accuracy=0.7886\n",
      "Epoch: 09 cost=0.4606 train accuracy=0.7886\n",
      "Epoch: 10 cost=0.4606 train accuracy=0.7886\n",
      "Epoch: 11 cost=0.4606 train accuracy=0.7886\n",
      "Epoch: 12 cost=0.4606 train accuracy=0.7886\n",
      "Epoch: 13 cost=0.4606 train accuracy=0.7886\n",
      "Epoch: 14 cost=0.4606 train accuracy=0.7886\n",
      "Epoch: 15 cost=0.4606 train accuracy=0.7886\n",
      "Optimization Finished!\n"
     ]
    }
   ],
   "source": [
    "training_epochs = 15\n",
    "batch_size = 32\n",
    "display_step = 1\n",
    "step_size = 1000\n",
    "\n",
    "# Launch the graph\n",
    "with tf.Session() as sess:\n",
    "    sess.run(tf.global_variables_initializer())\n",
    "\n",
    "    # Training cycle\n",
    "    for epoch in range(training_epochs):\n",
    "        avg_cost = 0.\n",
    "        avg_accuracy = 0.\n",
    "        # Loop over step_size\n",
    "        for step in range(step_size):\n",
    "            # Pick an offset within the training data, which has been randomized.\n",
    "            # Note: we could use better randomization across epochs.\n",
    "            offset = (step * batch_size) % (y_train.shape[0] - batch_size)\n",
    "            # Generate a minibatch.\n",
    "            batch_data = x_train[offset:(offset + batch_size), :]\n",
    "            batch_labels = y_train[offset:(offset + batch_size), :]\n",
    "\n",
    "            # Run optimization op (backprop) and cost op (to get loss value)\n",
    "            _, c, a = sess.run([optimizer, cost, accuracy], feed_dict={X: batch_data,\n",
    "                                                          Y: batch_labels})\n",
    "            avg_cost += c / step_size\n",
    "            avg_accuracy += a / step_size\n",
    "\n",
    "        # Display logs per epoch step\n",
    "        if epoch % display_step == 0:\n",
    "            print(\"Epoch:\", '%02d' % (epoch + 1), \"cost={:.4f}\".format(avg_cost), \"train accuracy={:.4f}\".format(avg_accuracy))\n",
    "    print(\"Optimization Finished!\")\n",
    "    \n",
    "    ## 4. Results (creating submission file)\n",
    "    \n",
    "    outputs = sess.run(predicted, feed_dict={X: x_test})\n",
    "    submission = ['PassengerId,Survived']\n",
    "\n",
    "    for id, prediction in zip(passId, outputs):\n",
    "        submission.append('{0},{1}'.format(id, int(prediction)))\n",
    "\n",
    "    submission = '\\n'.join(submission)\n",
    "\n",
    "    with open('submission.csv', 'w') as outfile:\n",
    "        outfile.write(submission)"
   ]
  },
  {
   "cell_type": "markdown",
   "metadata": {},
   "source": [
    "## 4. Results (creating submission file)\n",
    "(See above)"
   ]
  },
  {
   "cell_type": "markdown",
   "metadata": {},
   "source": [
    "## 5. Future work/exercises\n",
    "* Wide and deep\n",
    "* batch norm"
   ]
  }
 ],
 "metadata": {
  "kernelspec": {
   "display_name": "Python 3",
   "language": "python",
   "name": "python3"
  },
  "language_info": {
   "codemirror_mode": {
    "name": "ipython",
    "version": 3
   },
   "file_extension": ".py",
   "mimetype": "text/x-python",
   "name": "python",
   "nbconvert_exporter": "python",
   "pygments_lexer": "ipython3",
   "version": "3.6.0"
  }
 },
 "nbformat": 4,
 "nbformat_minor": 2
}
