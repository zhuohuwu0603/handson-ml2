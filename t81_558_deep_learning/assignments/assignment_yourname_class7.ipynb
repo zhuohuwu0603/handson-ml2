{
 "cells": [
  {
   "cell_type": "markdown",
   "metadata": {
    "colab_type": "text",
    "id": "vSJl8ZoSucQK"
   },
   "source": [
    "# T81-558: Applications of Deep Neural Networks\n",
    "* Instructor: [Jeff Heaton](https://sites.wustl.edu/jeffheaton/), School of Engineering and Applied Science, [Washington University in St. Louis](https://engineering.wustl.edu/Programs/Pages/default.aspx)\n",
    "* For more information visit the [class website](https://sites.wustl.edu/jeffheaton/t81-558/).\n",
    "\n",
    "**Module 7 Assignment: Computer Vision Neural Network**\n",
    "\n",
    "**Student Name: Your Name**"
   ]
  },
  {
   "cell_type": "markdown",
   "metadata": {
    "colab_type": "text",
    "id": "-eCUTf6n3BCb"
   },
   "source": [
    "# Assignment Submit Function\n",
    "\n",
    "You will submit the 10 programming assignments electronically.  The following submit function can be used to do this.  My server will perform a basic check of each assignment and let you know if it sees any basic problems. \n",
    "\n",
    "**It is unlikely that should need to modify this function.**"
   ]
  },
  {
   "cell_type": "code",
   "execution_count": 0,
   "metadata": {
    "colab": {},
    "colab_type": "code",
    "id": "BHb2ceEO3Qil"
   },
   "outputs": [],
   "source": [
    "import base64\n",
    "import os\n",
    "import numpy as np\n",
    "import pandas as pd\n",
    "import requests\n",
    "\n",
    "# This function submits an assignment.  You can submit an assignment as much as you like, only the final\n",
    "# submission counts.  The paramaters are as follows:\n",
    "# data - Pandas dataframe output.\n",
    "# key - Your student key that was emailed to you.\n",
    "# no - The assignment class number, should be 1 through 1.\n",
    "# source_file - The full path to your Python or IPYNB file.  This must have \"_class1\" as part of its name.  \n",
    "# .             The number must match your assignment number.  For example \"_class2\" for class assignment #2.\n",
    "def submit(data,key,no,source_file=None):\n",
    "    if source_file is None and '__file__' not in globals(): raise Exception('Must specify a filename when a Jupyter notebook.')\n",
    "    if source_file is None: source_file = __file__\n",
    "    suffix = '_class{}'.format(no)\n",
    "    if suffix not in source_file: raise Exception('{} must be part of the filename.'.format(suffix))\n",
    "    with open(source_file, \"rb\") as image_file:\n",
    "        encoded_python = base64.b64encode(image_file.read()).decode('ascii')\n",
    "    ext = os.path.splitext(source_file)[-1].lower()\n",
    "    if ext not in ['.ipynb','.py']: raise Exception(\"Source file is {} must be .py or .ipynb\".format(ext))\n",
    "    r = requests.post(\"https://api.heatonresearch.com/assignment-submit\",\n",
    "        headers={'x-api-key':key}, json={'csv':base64.b64encode(data.to_csv(index=False).encode('ascii')).decode(\"ascii\"),\n",
    "        'assignment': no, 'ext':ext, 'py':encoded_python})\n",
    "    if r.status_code == 200:\n",
    "        print(\"Success: {}\".format(r.text))\n",
    "    else: print(\"Failure: {}\".format(r.text))"
   ]
  },
  {
   "cell_type": "markdown",
   "metadata": {
    "colab_type": "text",
    "id": "_vNkxmQDucQN"
   },
   "source": [
    "# Assignment Instructions\n",
    "\n",
    "For this assignment you will use YOLO running on Google CoLab.  It is strongly reccomended to run this assignment on CoLab because the example code below is already setup to get you started with the correct versions of  YOLO.\n",
    "\n",
    "For this assignment you are provided with 10 image files that contain 10 different webcam pictures taken at the [Venice Sidewalk Cafe](https://www.westland.net/beachcam/) a WebCam that has been in opration since 1996.  You can find the 10 images here:\n",
    "\n",
    "* https://data.heatonresearch.com/data/t81-558/sidewalk/sidewalk1.png\n",
    "* https://data.heatonresearch.com/data/t81-558/sidewalk/sidewalk2.png\n",
    "* https://data.heatonresearch.com/data/t81-558/sidewalk/sidewalk3.png\n",
    "* https://data.heatonresearch.com/data/t81-558/sidewalk/sidewalk4.png\n",
    "* https://data.heatonresearch.com/data/t81-558/sidewalk/sidewalk5.png\n",
    "* https://data.heatonresearch.com/data/t81-558/sidewalk/sidewalk6.png\n",
    "* https://data.heatonresearch.com/data/t81-558/sidewalk/sidewalk7.png\n",
    "* https://data.heatonresearch.com/data/t81-558/sidewalk/sidewalk8.png\n",
    "* https://data.heatonresearch.com/data/t81-558/sidewalk/sidewalk9.png\n",
    "* https://data.heatonresearch.com/data/t81-558/sidewalk/sidewalk10.png\n",
    "\n",
    "You can see a sample of the WebCam here:\n",
    "\n",
    "![alt text](https://data.heatonresearch.com/data/t81-558/sidewalk/sidewalk1.png)\n",
    "\n",
    "YOLO does quite well recognizing objects in this webcam, as the following image illustrates.\n",
    "\n",
    "![alt text](https://data.heatonresearch.com/data/t81-558/sidewalk/predictions.jpg)\n",
    "\n",
    "You are to write a script that counts the number of certian objects in each of the images.  Specificially, you are looking for:\n",
    "\n",
    "* person\n",
    "* car\n",
    "* bicycle\n",
    "* motorbike\n",
    "* umbrella\n",
    "* handbag\n",
    "\n",
    "Your submit dataframe should also contain a column that identifies which image generated each row.  This column should be named **image** and contain integer numbers between 1 and 10.  There should be 10 rows total.  The complete dataframe should look something like this.\n",
    "\n",
    "|image|person|car|bicycle|motorbike|umbrella|handbag|\n",
    "|-|-|-|-|-|-|-|\n",
    "|1|22|1|2|1|1|0|\n",
    "|2|33|2|4|1|0|1|\n",
    "|3|21|0|0|0|3|0|\n",
    "|...|...|...|...|...|...|...|\n",
    "\n",
    "\n",
    "The following code simply sets up YOLO and then dumps the classification information for the first image.  It is just meant to get you started.  Read in all 10 images and generate a dataframe that looks something like the following. Use the **submit** function like you did in previoius assiignments.\n"
   ]
  },
  {
   "cell_type": "code",
   "execution_count": 0,
   "metadata": {
    "colab": {
     "base_uri": "https://localhost:8080/",
     "height": 193
    },
    "colab_type": "code",
    "id": "gd6z4JBDucQO",
    "outputId": "49107b42-fa84-4c3b-df7c-a730b8e6bf84"
   },
   "outputs": [
    {
     "name": "stdout",
     "output_type": "stream",
     "text": [
      "fatal: destination path 'darkflow' already exists and is not an empty directory.\n",
      "Processing ./darkflow\n",
      "Building wheels for collected packages: darkflow\n",
      "  Building wheel for darkflow (setup.py) ... \u001b[?25l\u001b[?25hdone\n",
      "  Created wheel for darkflow: filename=darkflow-1.0.0-cp36-cp36m-linux_x86_64.whl size=831132 sha256=31ce0f6979a1edfd23bef32b8a9d293aa04c4c098de41820ea6d1119250401fa\n",
      "  Stored in directory: /tmp/pip-ephem-wheel-cache-84ghijp_/wheels/2f/3a/c5/e84e79d73d5a73aa1b5129a66a40947d9d77a32ebed501e431\n",
      "Successfully built darkflow\n",
      "Installing collected packages: darkflow\n",
      "Successfully installed darkflow-1.0.0\n"
     ]
    }
   ],
   "source": [
    "!git clone https://github.com/thtrieu/darkflow.git\n",
    "!pip install ./darkflow/"
   ]
  },
  {
   "cell_type": "code",
   "execution_count": 0,
   "metadata": {
    "colab": {
     "base_uri": "https://localhost:8080/",
     "height": 124
    },
    "colab_type": "code",
    "id": "h-MFjcKau8q5",
    "outputId": "a34637bc-7167-4006-c1bb-4e6f25990771"
   },
   "outputs": [
    {
     "name": "stdout",
     "output_type": "stream",
     "text": [
      "Go to this URL in a browser: https://accounts.google.com/o/oauth2/auth?client_id=947318989803-6bn6qk8qdgf4n4g3pfee6491hc0brc4i.apps.googleusercontent.com&redirect_uri=urn%3Aietf%3Awg%3Aoauth%3A2.0%3Aoob&scope=email%20https%3A%2F%2Fwww.googleapis.com%2Fauth%2Fdocs.test%20https%3A%2F%2Fwww.googleapis.com%2Fauth%2Fdrive%20https%3A%2F%2Fwww.googleapis.com%2Fauth%2Fdrive.photos.readonly%20https%3A%2F%2Fwww.googleapis.com%2Fauth%2Fpeopleapi.readonly&response_type=code\n",
      "\n",
      "Enter your authorization code:\n",
      "··········\n",
      "Mounted at /content/drive\n"
     ]
    }
   ],
   "source": [
    "from google.colab import drive\n",
    "drive.mount('/content/drive')"
   ]
  },
  {
   "cell_type": "code",
   "execution_count": 0,
   "metadata": {
    "colab": {
     "base_uri": "https://localhost:8080/",
     "height": 609
    },
    "colab_type": "code",
    "id": "ZYXTbKD8vLFb",
    "outputId": "53b634b0-c8c7-4353-db76-57fff5e229e4"
   },
   "outputs": [
    {
     "name": "stdout",
     "output_type": "stream",
     "text": [
      "--2019-08-25 17:05:14--  https://raw.githubusercontent.com/thtrieu/darkflow/master/cfg/coco.names\n",
      "Resolving raw.githubusercontent.com (raw.githubusercontent.com)... 151.101.0.133, 151.101.64.133, 151.101.128.133, ...\n",
      "Connecting to raw.githubusercontent.com (raw.githubusercontent.com)|151.101.0.133|:443... connected.\n",
      "HTTP request sent, awaiting response... 200 OK\n",
      "Length: 625 [text/plain]\n",
      "Saving to: ‘/content/drive/My Drive/projects/yolo/cfg/coco.names’\n",
      "\n",
      "/content/drive/My D 100%[===================>]     625  --.-KB/s    in 0s      \n",
      "\n",
      "2019-08-25 17:05:14 (121 MB/s) - ‘/content/drive/My Drive/projects/yolo/cfg/coco.names’ saved [625/625]\n",
      "\n",
      "--2019-08-25 17:05:15--  https://raw.githubusercontent.com/thtrieu/darkflow/master/cfg/yolo.cfg\n",
      "Resolving raw.githubusercontent.com (raw.githubusercontent.com)... 151.101.0.133, 151.101.64.133, 151.101.128.133, ...\n",
      "Connecting to raw.githubusercontent.com (raw.githubusercontent.com)|151.101.0.133|:443... connected.\n",
      "HTTP request sent, awaiting response... 200 OK\n",
      "Length: 2726 (2.7K) [text/plain]\n",
      "Saving to: ‘/content/drive/My Drive/projects/yolo/cfg/yolo.cfg’\n",
      "\n",
      "/content/drive/My D 100%[===================>]   2.66K  --.-KB/s    in 0s      \n",
      "\n",
      "2019-08-25 17:05:16 (22.3 MB/s) - ‘/content/drive/My Drive/projects/yolo/cfg/yolo.cfg’ saved [2726/2726]\n",
      "\n",
      "--2019-08-25 17:05:21--  https://pjreddie.com/media/files/yolov2.weights\n",
      "Resolving pjreddie.com (pjreddie.com)... 128.208.4.108\n",
      "Connecting to pjreddie.com (pjreddie.com)|128.208.4.108|:443... connected.\n",
      "HTTP request sent, awaiting response... 200 OK\n",
      "Length: 203934260 (194M) [application/octet-stream]\n",
      "Saving to: ‘/content/drive/My Drive/projects/yolo/bin/yolo.weights’\n",
      "\n",
      "/content/drive/My D 100%[===================>] 194.49M  17.8MB/s    in 11s     \n",
      "\n",
      "2019-08-25 17:05:33 (17.0 MB/s) - ‘/content/drive/My Drive/projects/yolo/bin/yolo.weights’ saved [203934260/203934260]\n",
      "\n"
     ]
    }
   ],
   "source": [
    "# The following helper script will create a projects/yolo folder for you \n",
    "# and download the needed files.  \n",
    "\n",
    "!mkdir -p /content/drive/My\\ Drive/projects\n",
    "!mkdir -p /content/drive/My\\ Drive/projects/yolo\n",
    "!mkdir -p /content/drive/My\\ Drive/projects/yolo/bin\n",
    "!mkdir -p /content/drive/My\\ Drive/projects/yolo/cfg\n",
    "!wget https://raw.githubusercontent.com/thtrieu/darkflow/master/cfg/coco.names -O /content/drive/My\\ Drive/projects/yolo/cfg/coco.names\n",
    "!wget https://raw.githubusercontent.com/thtrieu/darkflow/master/cfg/yolo.cfg -O /content/drive/My\\ Drive/projects/yolo/cfg/yolo.cfg\n",
    "!wget https://pjreddie.com/media/files/yolov2.weights -O /content/drive/My\\ Drive/projects/yolo/bin/yolo.weights"
   ]
  },
  {
   "cell_type": "code",
   "execution_count": 1,
   "metadata": {},
   "outputs": [],
   "source": [
    "# This is your student key that I emailed to you at the beginnning of the semester.\n",
    "key = \"PPboscDL2M94HCbkbvfOLakXXNy3dh5x2VV1Mlpm\"  # This is an example key and will not work.\n",
    "\n",
    "# You must also identify your source file.  (modify for your local setup)\n",
    "# file='/content/drive/My Drive/Colab Notebooks/assignment_yourname_class7.ipynb'  # Google CoLab\n",
    "# file='C:\\\\Users\\\\jeffh\\\\projects\\\\t81_558_deep_learning\\\\assignments\\\\assignment_yourname_class7.ipynb'  # Windows\n",
    "file='/Users/jheaton/projects/t81_558_deep_learning/assignments/assignment_yourname_class7.ipynb'  # Mac/Linux"
   ]
  },
  {
   "cell_type": "code",
   "execution_count": 0,
   "metadata": {
    "colab": {
     "base_uri": "https://localhost:8080/",
     "height": 835
    },
    "colab_type": "code",
    "id": "NKsq0Z1HvWxT",
    "outputId": "e9e0c9b2-42fc-44ce-f29e-e4113c180fd9"
   },
   "outputs": [
    {
     "name": "stdout",
     "output_type": "stream",
     "text": [
      "Parsing ./cfg/yolo.cfg\n",
      "Loading ./bin/yolo.weights ...\n",
      "Successfully identified 203934260 bytes\n",
      "Finished in 0.047690629959106445s\n",
      "Model has a coco model name, loading coco labels.\n",
      "\n",
      "Building net ...\n",
      "Source | Train? | Layer description                | Output size\n",
      "-------+--------+----------------------------------+---------------\n",
      "       |        | input                            | (?, 608, 608, 3)\n",
      " Load  |  Yep!  | conv 3x3p1_1  +bnorm  leaky      | (?, 608, 608, 32)\n",
      " Load  |  Yep!  | maxp 2x2p0_2                     | (?, 304, 304, 32)\n",
      " Load  |  Yep!  | conv 3x3p1_1  +bnorm  leaky      | (?, 304, 304, 64)\n",
      " Load  |  Yep!  | maxp 2x2p0_2                     | (?, 152, 152, 64)\n",
      " Load  |  Yep!  | conv 3x3p1_1  +bnorm  leaky      | (?, 152, 152, 128)\n",
      " Load  |  Yep!  | conv 1x1p0_1  +bnorm  leaky      | (?, 152, 152, 64)\n",
      " Load  |  Yep!  | conv 3x3p1_1  +bnorm  leaky      | (?, 152, 152, 128)\n",
      " Load  |  Yep!  | maxp 2x2p0_2                     | (?, 76, 76, 128)\n",
      " Load  |  Yep!  | conv 3x3p1_1  +bnorm  leaky      | (?, 76, 76, 256)\n",
      " Load  |  Yep!  | conv 1x1p0_1  +bnorm  leaky      | (?, 76, 76, 128)\n",
      " Load  |  Yep!  | conv 3x3p1_1  +bnorm  leaky      | (?, 76, 76, 256)\n",
      " Load  |  Yep!  | maxp 2x2p0_2                     | (?, 38, 38, 256)\n",
      " Load  |  Yep!  | conv 3x3p1_1  +bnorm  leaky      | (?, 38, 38, 512)\n",
      " Load  |  Yep!  | conv 1x1p0_1  +bnorm  leaky      | (?, 38, 38, 256)\n",
      " Load  |  Yep!  | conv 3x3p1_1  +bnorm  leaky      | (?, 38, 38, 512)\n",
      " Load  |  Yep!  | conv 1x1p0_1  +bnorm  leaky      | (?, 38, 38, 256)\n",
      " Load  |  Yep!  | conv 3x3p1_1  +bnorm  leaky      | (?, 38, 38, 512)\n",
      " Load  |  Yep!  | maxp 2x2p0_2                     | (?, 19, 19, 512)\n",
      " Load  |  Yep!  | conv 3x3p1_1  +bnorm  leaky      | (?, 19, 19, 1024)\n",
      " Load  |  Yep!  | conv 1x1p0_1  +bnorm  leaky      | (?, 19, 19, 512)\n",
      " Load  |  Yep!  | conv 3x3p1_1  +bnorm  leaky      | (?, 19, 19, 1024)\n",
      " Load  |  Yep!  | conv 1x1p0_1  +bnorm  leaky      | (?, 19, 19, 512)\n",
      " Load  |  Yep!  | conv 3x3p1_1  +bnorm  leaky      | (?, 19, 19, 1024)\n",
      " Load  |  Yep!  | conv 3x3p1_1  +bnorm  leaky      | (?, 19, 19, 1024)\n",
      " Load  |  Yep!  | conv 3x3p1_1  +bnorm  leaky      | (?, 19, 19, 1024)\n",
      " Load  |  Yep!  | concat [16]                      | (?, 38, 38, 512)\n",
      " Load  |  Yep!  | conv 1x1p0_1  +bnorm  leaky      | (?, 38, 38, 64)\n",
      " Load  |  Yep!  | local flatten 2x2                | (?, 19, 19, 256)\n",
      " Load  |  Yep!  | concat [27, 24]                  | (?, 19, 19, 1280)\n",
      " Load  |  Yep!  | conv 3x3p1_1  +bnorm  leaky      | (?, 19, 19, 1024)\n",
      " Load  |  Yep!  | conv 1x1p0_1    linear           | (?, 19, 19, 425)\n",
      "-------+--------+----------------------------------+---------------\n",
      "GPU mode with 1.0 usage\n",
      "Finished in 4.41824197769165s\n",
      "\n",
      "[{'label': 'person', 'confidence': 0.14191765, 'topleft': {'x': 286, 'y': 354}, 'bottomright': {'x': 318, 'y': 410}}, {'label': 'person', 'confidence': 0.21250837, 'topleft': {'x': 374, 'y': 399}, 'bottomright': {'x': 400, 'y': 445}}, {'label': 'person', 'confidence': 0.16503744, 'topleft': {'x': 444, 'y': 413}, 'bottomright': {'x': 472, 'y': 468}}, {'label': 'person', 'confidence': 0.131489, 'topleft': {'x': 628, 'y': 409}, 'bottomright': {'x': 653, 'y': 448}}, {'label': 'person', 'confidence': 0.1747646, 'topleft': {'x': 108, 'y': 441}, 'bottomright': {'x': 133, 'y': 491}}, {'label': 'person', 'confidence': 0.33305138, 'topleft': {'x': 244, 'y': 442}, 'bottomright': {'x': 281, 'y': 510}}, {'label': 'person', 'confidence': 0.17644966, 'topleft': {'x': 462, 'y': 440}, 'bottomright': {'x': 492, 'y': 506}}, {'label': 'person', 'confidence': 0.39370027, 'topleft': {'x': 298, 'y': 496}, 'bottomright': {'x': 327, 'y': 558}}, {'label': 'person', 'confidence': 0.1430477, 'topleft': {'x': 367, 'y': 495}, 'bottomright': {'x': 395, 'y': 556}}, {'label': 'person', 'confidence': 0.11439692, 'topleft': {'x': 458, 'y': 481}, 'bottomright': {'x': 485, 'y': 550}}, {'label': 'person', 'confidence': 0.20937796, 'topleft': {'x': 42, 'y': 212}, 'bottomright': {'x': 1364, 'y': 827}}, {'label': 'person', 'confidence': 0.12324034, 'topleft': {'x': 0, 'y': 541}, 'bottomright': {'x': 24, 'y': 592}}, {'label': 'person', 'confidence': 0.119405754, 'topleft': {'x': 187, 'y': 550}, 'bottomright': {'x': 213, 'y': 596}}, {'label': 'person', 'confidence': 0.1446452, 'topleft': {'x': 456, 'y': 543}, 'bottomright': {'x': 487, 'y': 601}}, {'label': 'person', 'confidence': 0.4189674, 'topleft': {'x': 178, 'y': 560}, 'bottomright': {'x': 214, 'y': 644}}, {'label': 'person', 'confidence': 0.113662094, 'topleft': {'x': 352, 'y': 582}, 'bottomright': {'x': 379, 'y': 639}}, {'label': 'person', 'confidence': 0.11491524, 'topleft': {'x': 469, 'y': 583}, 'bottomright': {'x': 497, 'y': 636}}, {'label': 'person', 'confidence': 0.10207778, 'topleft': {'x': 1351, 'y': 734}, 'bottomright': {'x': 1438, 'y': 846}}, {'label': 'person', 'confidence': 0.20351766, 'topleft': {'x': 436, 'y': 818}, 'bottomright': {'x': 487, 'y': 853}}, {'label': 'person', 'confidence': 0.12684031, 'topleft': {'x': 693, 'y': 812}, 'bottomright': {'x': 743, 'y': 852}}, {'label': 'person', 'confidence': 0.18224497, 'topleft': {'x': 662, 'y': 792}, 'bottomright': {'x': 742, 'y': 857}}, {'label': 'boat', 'confidence': 0.15646505, 'topleft': {'x': 304, 'y': 162}, 'bottomright': {'x': 348, 'y': 182}}, {'label': 'umbrella', 'confidence': 0.16215308, 'topleft': {'x': 0, 'y': 587}, 'bottomright': {'x': 249, 'y': 810}}, {'label': 'umbrella', 'confidence': 0.38356405, 'topleft': {'x': 427, 'y': 747}, 'bottomright': {'x': 551, 'y': 833}}, {'label': 'umbrella', 'confidence': 0.15565145, 'topleft': {'x': 134, 'y': 794}, 'bottomright': {'x': 284, 'y': 848}}, {'label': 'apple', 'confidence': 0.12274569, 'topleft': {'x': 1452, 'y': 332}, 'bottomright': {'x': 1495, 'y': 359}}, {'label': 'orange', 'confidence': 0.1810293, 'topleft': {'x': 1182, 'y': 375}, 'bottomright': {'x': 1219, 'y': 406}}, {'label': 'orange', 'confidence': 0.13335747, 'topleft': {'x': 1386, 'y': 373}, 'bottomright': {'x': 1421, 'y': 398}}, {'label': 'orange', 'confidence': 0.22648667, 'topleft': {'x': 1357, 'y': 351}, 'bottomright': {'x': 1461, 'y': 422}}]\n"
     ]
    }
   ],
   "source": [
    "from darkflow.net.build import TFNet\n",
    "import cv2\n",
    "import numpy as np\n",
    "import requests\n",
    "import os\n",
    "from scipy import misc\n",
    "from io import BytesIO\n",
    "from urllib.request import urlopen\n",
    "\n",
    "os.chdir('/content/drive/My Drive/projects/yolo') # Google CoLab\n",
    "#os.chdir('/Users/jheaton/projects/darkflow') # Local\n",
    "\n",
    "# For GPU (Google CoLab)\n",
    "options = {\"model\": \"./cfg/yolo.cfg\", \"load\": \"./bin/yolo.weights\", \"threshold\": 0.1, \"gpu\": 1.0}\n",
    "\n",
    "# For CPU \n",
    "#options = {\"model\": \"./cfg/yolo.cfg\", \"load\": \"./bin/yolo.weights\", \"threshold\": 0.1}\n",
    "\n",
    "tfnet = TFNet(options)\n",
    "\n",
    "\n",
    "# Read image to classify\n",
    "url = \"https://data.heatonresearch.com/data/t81-558/sidewalk/sidewalk3.png\"\n",
    "resp = urlopen(url)\n",
    "img = np.asarray(bytearray(resp.read()), dtype=\"uint8\")\n",
    "img = cv2.imdecode(img, cv2.IMREAD_COLOR)\n",
    "\n",
    "result = tfnet.return_predict(img)\n",
    "print(result)"
   ]
  }
 ],
 "metadata": {
  "accelerator": "GPU",
  "anaconda-cloud": {},
  "colab": {
   "collapsed_sections": [],
   "name": "Copy of assignment_yourname_class7.ipynb",
   "provenance": [],
   "version": "0.3.2"
  },
  "kernelspec": {
   "display_name": "Python 3.6 (tensorflow)",
   "language": "python",
   "name": "rga"
  },
  "language_info": {
   "codemirror_mode": {
    "name": "ipython",
    "version": 3
   },
   "file_extension": ".py",
   "mimetype": "text/x-python",
   "name": "python",
   "nbconvert_exporter": "python",
   "pygments_lexer": "ipython3",
   "version": "3.6.9"
  }
 },
 "nbformat": 4,
 "nbformat_minor": 1
}
