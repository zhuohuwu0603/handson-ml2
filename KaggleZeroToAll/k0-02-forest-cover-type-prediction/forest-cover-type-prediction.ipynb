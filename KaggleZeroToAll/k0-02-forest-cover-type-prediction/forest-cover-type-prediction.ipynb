{
 "cells": [
  {
   "cell_type": "markdown",
   "metadata": {},
   "source": [
    "# Forest Cover Type Prediction\n",
    "https://www.kaggle.com/c/forest-cover-type-prediction\n",
    "\n",
    "Code based on https://www.kaggle.com/klepacz/titanic/tensor-flow"
   ]
  },
  {
   "cell_type": "markdown",
   "metadata": {},
   "source": [
    "## 1. Problem/data description\n",
    "\n",
    "\"Predict the forest cover type (the predominant kind of tree cover) from strictly cartographic variables (as opposed to remotely sensed data).\""
   ]
  },
  {
   "cell_type": "markdown",
   "metadata": {},
   "source": [
    "## 2. Loading data\n",
    "\n",
    "First execute data_download.sh to download CSV files:\n",
    "```bash\n",
    "$ sh data_download.sh\n",
    "``` \n",
    "\n",
    "You will have `train.csv.zip' and CSV looks something like this:\n",
    "```\n",
    "Id  Elevation  Aspect  Slope  Horizontal_Distance_To_Hydrology  \\\n",
    "0   1       2596      51      3                               25...\n",
    "...\n",
    "[n rows x 56 columns]\n",
    "```"
   ]
  },
  {
   "cell_type": "code",
   "execution_count": 1,
   "metadata": {
    "collapsed": true
   },
   "outputs": [],
   "source": [
    "# code to downlaod and laod \n",
    "import numpy as np # linear algebra\n",
    "import pandas as pd # data processing, CSV file I/O (e.g. pd.read_csv)\n",
    "import tensorflow as tf\n",
    "tf.set_random_seed(777)  # for reproducibility"
   ]
  },
  {
   "cell_type": "code",
   "execution_count": 2,
   "metadata": {
    "collapsed": true
   },
   "outputs": [],
   "source": [
    "# Normalize x data\n",
    "def MinMaxScaler(data):\n",
    "    numerator = data - np.min(data, 0)\n",
    "    denominator = np.max(data, 0) - np.min(data, 0)\n",
    "    # noise term prevents the zero division\n",
    "    return numerator / (denominator + 1e-7)"
   ]
  },
  {
   "cell_type": "code",
   "execution_count": 3,
   "metadata": {
    "collapsed": false
   },
   "outputs": [],
   "source": [
    "def load_file(is_test):\n",
    "    if is_test:\n",
    "        data_df = pd.read_csv(\"test.csv.zip\", compression='zip')\n",
    "        data = data_df.values[:, 1:] # Ignore ID\n",
    "        labels = data_df[\"Id\"].values\n",
    "    else:\n",
    "        data_df = pd.read_csv(\"train.csv.zip\", compression='zip')\n",
    "        data = data_df.values[:, 1:-1] # Ignore ID and Cover_Type\n",
    "        labels = data_df[\"Cover_Type\"].values\n",
    "    \n",
    "    print(data_df.head(n=1))\n",
    "    return labels, data"
   ]
  },
  {
   "cell_type": "code",
   "execution_count": 4,
   "metadata": {
    "collapsed": false
   },
   "outputs": [
    {
     "name": "stdout",
     "output_type": "stream",
     "text": [
      "   Id  Elevation  Aspect  Slope  Horizontal_Distance_To_Hydrology  \\\n",
      "0   1       2596      51      3                               258   \n",
      "\n",
      "   Vertical_Distance_To_Hydrology  Horizontal_Distance_To_Roadways  \\\n",
      "0                               0                              510   \n",
      "\n",
      "   Hillshade_9am  Hillshade_Noon  Hillshade_3pm     ...      Soil_Type32  \\\n",
      "0            221             232            148     ...                0   \n",
      "\n",
      "   Soil_Type33  Soil_Type34  Soil_Type35  Soil_Type36  Soil_Type37  \\\n",
      "0            0            0            0            0            0   \n",
      "\n",
      "   Soil_Type38  Soil_Type39  Soil_Type40  Cover_Type  \n",
      "0            0            0            0           5  \n",
      "\n",
      "[1 rows x 56 columns]\n",
      "      Id  Elevation  Aspect  Slope  Horizontal_Distance_To_Hydrology  \\\n",
      "0  15121       2680     354     14                                 0   \n",
      "\n",
      "   Vertical_Distance_To_Hydrology  Horizontal_Distance_To_Roadways  \\\n",
      "0                               0                             2684   \n",
      "\n",
      "   Hillshade_9am  Hillshade_Noon  Hillshade_3pm     ...       Soil_Type31  \\\n",
      "0            196             214            156     ...                 0   \n",
      "\n",
      "   Soil_Type32  Soil_Type33  Soil_Type34  Soil_Type35  Soil_Type36  \\\n",
      "0            0            0            0            0            0   \n",
      "\n",
      "   Soil_Type37  Soil_Type38  Soil_Type39  Soil_Type40  \n",
      "0            0            0            0            0  \n",
      "\n",
      "[1 rows x 55 columns]\n",
      "(15120, 54) (565892, 54)\n",
      "(581012, 54)\n",
      "(15120, 54) (565892, 54)\n"
     ]
    }
   ],
   "source": [
    "# Load data and min/max \n",
    "# TODO: clean up this code\n",
    "y_train, x_train = load_file(0)\n",
    "y_train -= 1 # They are 1-7. So let's make it to 0~6\n",
    "y_train = np.expand_dims(y_train, 1)\n",
    "train_len = len(x_train)\n",
    "# Get train file\n",
    "testIds, x_test = load_file(1)\n",
    "\n",
    "print(x_train.shape, x_test.shape)\n",
    "\n",
    "x_all = np.vstack((x_train, x_test))\n",
    "print(x_all.shape)\n",
    "\n",
    "x_min_max_all = MinMaxScaler(x_all)\n",
    "x_train = x_min_max_all[:train_len]\n",
    "x_test = x_min_max_all[train_len:]\n",
    "\n",
    "print(x_train.shape, x_test.shape)"
   ]
  },
  {
   "cell_type": "markdown",
   "metadata": {},
   "source": [
    "## 3. Model\n",
    "Model implementation. It can be divided to several small sections."
   ]
  },
  {
   "cell_type": "code",
   "execution_count": 5,
   "metadata": {
    "collapsed": false
   },
   "outputs": [
    {
     "name": "stdout",
     "output_type": "stream",
     "text": [
      "one_hot Tensor(\"one_hot:0\", shape=(?, 1, 7), dtype=float32)\n",
      "reshape Tensor(\"Reshape:0\", shape=(?, 7), dtype=float32)\n"
     ]
    }
   ],
   "source": [
    "# Parameters\n",
    "learning_rate = 0.1\n",
    "\n",
    "# Network Parameters\n",
    "n_input = x_train.shape[1]\n",
    "n_classes = 7  # 0 ~ 6\n",
    "\n",
    "# placeholders for a tensor that will be always fed.\n",
    "X = tf.placeholder(tf.float32, shape=[None, n_input])\n",
    "Y = tf.placeholder(tf.int32, [None, 1])  # 0 ~ 6\n",
    "Y_one_hot = tf.one_hot(Y, n_classes)  # one hot\n",
    "print(\"one_hot\", Y_one_hot)\n",
    "Y_one_hot = tf.reshape(Y_one_hot, [-1, n_classes])\n",
    "print(\"reshape\", Y_one_hot)\n",
    "\n",
    "W = tf.Variable(tf.random_normal([n_input, n_classes]), name='weight')\n",
    "b = tf.Variable(tf.random_normal([n_classes]), name='bias')\n",
    "\n",
    "# tf.nn.softmax computes softmax activations\n",
    "# softmax = exp(logits) / reduce_sum(exp(logits), dim)\n",
    "logits = tf.matmul(X, W) + b\n",
    "hypothesis = tf.nn.softmax(logits)\n",
    "\n",
    "# Cross entropy cost/loss\n",
    "cost = tf.reduce_mean(tf.nn.softmax_cross_entropy_with_logits(logits=logits,\n",
    "                                                 labels=Y_one_hot))\n",
    "optimizer = tf.train.AdamOptimizer(learning_rate=learning_rate).minimize(cost)\n",
    "\n",
    "prediction = tf.argmax(hypothesis, 1)\n",
    "correct_prediction = tf.equal(prediction, tf.argmax(Y_one_hot, 1))\n",
    "accuracy = tf.reduce_mean(tf.cast(correct_prediction, tf.float32))"
   ]
  },
  {
   "cell_type": "code",
   "execution_count": 6,
   "metadata": {
    "collapsed": false
   },
   "outputs": [
    {
     "name": "stdout",
     "output_type": "stream",
     "text": [
      "Epoch: 01 cost=1.3311 train accuracy=0.6022\n",
      "Epoch: 02 cost=1.2192 train accuracy=0.6245\n",
      "Epoch: 03 cost=1.1889 train accuracy=0.6292\n",
      "Epoch: 04 cost=1.1763 train accuracy=0.6329\n",
      "Epoch: 05 cost=1.1724 train accuracy=0.6346\n",
      "Epoch: 06 cost=1.1714 train accuracy=0.6364\n",
      "Epoch: 07 cost=1.1713 train accuracy=0.6375\n",
      "Epoch: 08 cost=1.1712 train accuracy=0.6377\n",
      "Epoch: 09 cost=1.1706 train accuracy=0.6394\n",
      "Epoch: 10 cost=1.1692 train accuracy=0.6408\n",
      "Epoch: 11 cost=1.1673 train accuracy=0.6416\n",
      "Epoch: 12 cost=1.1649 train accuracy=0.6423\n",
      "Epoch: 13 cost=1.1622 train accuracy=0.6427\n",
      "Epoch: 14 cost=1.1592 train accuracy=0.6433\n",
      "Epoch: 15 cost=1.1561 train accuracy=0.6443\n",
      "Optimization Finished!\n"
     ]
    }
   ],
   "source": [
    "training_epochs = 15\n",
    "batch_size = 32\n",
    "display_step = 1\n",
    "step_size = 1000\n",
    "\n",
    "# Launch the graph\n",
    "with tf.Session() as sess:\n",
    "    sess.run(tf.global_variables_initializer())\n",
    "\n",
    "    # Training cycle\n",
    "    for epoch in range(training_epochs):\n",
    "        avg_cost = 0.\n",
    "        avg_accuracy = 0.\n",
    "        # Loop over step_size\n",
    "        for step in range(step_size):\n",
    "            # Pick an offset within the training data, which has been randomized.\n",
    "            # Note: we could use better randomization across epochs.\n",
    "            offset = (step * batch_size) % (y_train.shape[0] - batch_size)\n",
    "            # Generate a minibatch.\n",
    "            batch_data = x_train[offset:(offset + batch_size), :]\n",
    "            batch_labels = y_train[offset:(offset + batch_size), :]\n",
    "\n",
    "            # Run optimization op (backprop) and cost op (to get loss value)\n",
    "            _, c, a = sess.run([optimizer, cost, accuracy], feed_dict={X: batch_data,\n",
    "                                                          Y: batch_labels})\n",
    "            avg_cost += c / step_size\n",
    "            avg_accuracy += a / step_size\n",
    "\n",
    "        # Display logs per epoch step\n",
    "        if epoch % display_step == 0:\n",
    "            print(\"Epoch:\", '%02d' % (epoch + 1), \"cost={:.4f}\".format(avg_cost), \"train accuracy={:.4f}\".format(avg_accuracy))\n",
    "    print(\"Optimization Finished!\")\n",
    "    \n",
    "    ## 4. Results (creating submission file)\n",
    "    \n",
    "    outputs = sess.run(prediction, feed_dict={X: x_test})\n",
    "    outputs += 1 # +1 to make 1-7\n",
    "    submission = ['Id,Cover_Type']\n",
    "\n",
    "    for id, p in zip(testIds, outputs):\n",
    "        submission.append('{0},{1}'.format(id, int(p))) \n",
    "\n",
    "    submission = '\\n'.join(submission)\n",
    "\n",
    "    with open('submission.csv', 'w') as outfile:\n",
    "        outfile.write(submission)"
   ]
  },
  {
   "cell_type": "markdown",
   "metadata": {},
   "source": [
    "## 4. Results (creating submission file)\n",
    "(See above)"
   ]
  },
  {
   "cell_type": "markdown",
   "metadata": {},
   "source": [
    "## 5. Future work/exercises\n",
    "* Wide and deep\n",
    "* batch norm"
   ]
  }
 ],
 "metadata": {
  "kernelspec": {
   "display_name": "Python 3",
   "language": "python",
   "name": "python3"
  },
  "language_info": {
   "codemirror_mode": {
    "name": "ipython",
    "version": 3
   },
   "file_extension": ".py",
   "mimetype": "text/x-python",
   "name": "python",
   "nbconvert_exporter": "python",
   "pygments_lexer": "ipython3",
   "version": "3.6.0"
  }
 },
 "nbformat": 4,
 "nbformat_minor": 2
}
